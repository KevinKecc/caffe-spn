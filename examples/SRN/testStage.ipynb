{
 "cells": [
  {
   "cell_type": "code",
   "execution_count": 89,
   "metadata": {
    "collapsed": true
   },
   "outputs": [],
   "source": [
    "import numpy as np\n",
    "import matplotlib.pyplot as plt\n",
    "import matplotlib.pylab as pylab\n",
    "import matplotlib.cm as cm\n",
    "%matplotlib inline\n",
    "import scipy.misc\n",
    "from PIL import Image\n",
    "import scipy.io as scio\n",
    "import os\n",
    "from pylab import * # for showing\n",
    "from termios import VMIN\n",
    "import time\n",
    "\n",
    "caffe_root = '/root/Workspace/caffe-addlayer/'\n",
    "import sys\n",
    "sys.path.insert(0, caffe_root + 'python')\n",
    "import caffe"
   ]
  },
  {
   "cell_type": "code",
   "execution_count": 90,
   "metadata": {
    "collapsed": false
   },
   "outputs": [],
   "source": [
    "data_root = '/root/Workspace/hed-master/data/HED-BSDS/'\n",
    "with open(data_root+'test.lst') as f:\n",
    "    test_lst = f.readlines()    \n",
    "test_lst = [data_root + x.strip() for x in test_lst]\n",
    "\n",
    "im_lst = []\n",
    "# len(test_lst)\n",
    "for i in range(0, len(test_lst)):\n",
    "    im = Image.open(test_lst[i])\n",
    "    in_ = np.array(im, dtype=np.float32)\n",
    "    in_ = in_[:,:,::-1]\n",
    "    in_ -= np.array((104.00698793,116.66876762,122.67891434))\n",
    "    im_lst.append(in_)\n",
    "    \n",
    "#Visualization\n",
    "def plot_single_scale(scale_lst, size):\n",
    "    pylab.rcParams['figure.figsize'] = size, size/2\n",
    "    \n",
    "    plt.figure()\n",
    "    for i in range(0, len(scale_lst)):\n",
    "        s=plt.subplot(1,5,i+1)\n",
    "        plt.imshow(1-scale_lst[i], cmap = cm.Greys_r)\n",
    "        #plt.imshow(1-scale_lst[i])\n",
    "        s.set_xticklabels([])\n",
    "        s.set_yticklabels([])\n",
    "        s.yaxis.set_ticks_position('none')\n",
    "        s.xaxis.set_ticks_position('none')\n",
    "    plt.tight_layout()\n"
   ]
  },
  {
   "cell_type": "code",
   "execution_count": 91,
   "metadata": {
    "collapsed": true
   },
   "outputs": [],
   "source": [
    "idx = 1\n",
    "\n",
    "in_ = im_lst[idx]\n",
    "in_ = in_.transpose((2,0,1))\n",
    "#remove the following two lines if testing with cpu\n",
    "caffe.set_mode_gpu()\n",
    "caffe.set_device(1)"
   ]
  },
  {
   "cell_type": "code",
   "execution_count": 92,
   "metadata": {
    "collapsed": false,
    "scrolled": true
   },
   "outputs": [],
   "source": [
    "# load net\n",
    "model_root = '/root/Workspace/caffe-addlayer/examples/SRN/'\n",
    "net = caffe.Net(model_root+'deploy.prototxt', model_root+'san_iter_18000.caffemodel', caffe.TEST)"
   ]
  },
  {
   "cell_type": "code",
   "execution_count": 93,
   "metadata": {
    "collapsed": true
   },
   "outputs": [],
   "source": [
    "# hed_symmetry_final_my\n",
    "# shape for input (data blob is N x C x H x W), set data\n",
    "net.blobs['data'].reshape(1, *in_.shape)\n",
    "net.blobs['data'].data[...] = in_"
   ]
  },
  {
   "cell_type": "code",
   "execution_count": 94,
   "metadata": {
    "collapsed": false
   },
   "outputs": [
    {
     "data": {
      "text/plain": [
       "{'sigmoid-dsn1': array([[[[  0.00000000e+00,   0.00000000e+00,   0.00000000e+00, ...,\n",
       "             8.62603391e-12,   4.09348445e-16,   1.05972701e-20],\n",
       "          [  0.00000000e+00,   0.00000000e+00,   0.00000000e+00, ...,\n",
       "             3.44161574e-11,   1.14207072e-15,   2.04745183e-20],\n",
       "          [  0.00000000e+00,   0.00000000e+00,   0.00000000e+00, ...,\n",
       "             9.23724708e-11,   2.48313786e-15,   3.21365646e-20],\n",
       "          ..., \n",
       "          [  4.53479555e-37,   4.09720389e-38,   0.00000000e+00, ...,\n",
       "             7.96225808e-19,   9.28041782e-20,   3.42458630e-21],\n",
       "          [  6.47738534e-37,   8.26768056e-38,   4.66519584e-39, ...,\n",
       "             1.04575643e-19,   9.39288789e-21,   3.37167153e-22],\n",
       "          [  5.86040820e-37,   9.84188748e-38,   1.14287661e-38, ...,\n",
       "             4.09830270e-21,   3.72864232e-22,   1.37769445e-23]]]], dtype=float32),\n",
       " 'sigmoid-dsn2': array([[[[  0.00000000e+00,   0.00000000e+00,   0.00000000e+00, ...,\n",
       "             1.60336219e-12,   3.78807725e-17,   4.43099813e-22],\n",
       "          [  0.00000000e+00,   0.00000000e+00,   0.00000000e+00, ...,\n",
       "             6.20563757e-12,   1.02818319e-16,   9.07750448e-22],\n",
       "          [  0.00000000e+00,   0.00000000e+00,   0.00000000e+00, ...,\n",
       "             1.83400951e-11,   2.44546909e-16,   1.68400058e-21],\n",
       "          ..., \n",
       "          [  0.00000000e+00,   0.00000000e+00,   0.00000000e+00, ...,\n",
       "             6.87327248e-20,   4.40210618e-21,   1.41047383e-22],\n",
       "          [  3.66552773e-39,   0.00000000e+00,   0.00000000e+00, ...,\n",
       "             4.60935693e-21,   3.08837126e-22,   1.04186414e-23],\n",
       "          [  3.11474037e-39,   0.00000000e+00,   0.00000000e+00, ...,\n",
       "             1.55255147e-22,   1.07003105e-23,   3.60612380e-25]]]], dtype=float32),\n",
       " 'sigmoid-dsn3': array([[[[  0.00000000e+00,   0.00000000e+00,   0.00000000e+00, ...,\n",
       "             1.17730137e-08,   5.59639791e-13,   2.66028796e-17],\n",
       "          [  0.00000000e+00,   0.00000000e+00,   0.00000000e+00, ...,\n",
       "             1.17185898e-07,   4.67764499e-12,   1.86714781e-16],\n",
       "          [  0.00000000e+00,   0.00000000e+00,   0.00000000e+00, ...,\n",
       "             4.71437829e-07,   1.64131052e-11,   5.71421820e-16],\n",
       "          ..., \n",
       "          [  5.82101624e-37,   1.23861915e-37,   5.22680544e-39, ...,\n",
       "             1.91978562e-16,   8.98176615e-18,   4.20214188e-19],\n",
       "          [  4.20852035e-37,   1.31089005e-37,   9.02291317e-39, ...,\n",
       "             7.07192853e-18,   3.51295050e-19,   1.74504962e-20],\n",
       "          [  3.04270639e-37,   1.38738873e-37,   1.55760490e-38, ...,\n",
       "             2.60510168e-19,   1.37399126e-20,   7.24672114e-22]]]], dtype=float32),\n",
       " 'sigmoid-dsn4': array([[[[  0.00000000e+00,   0.00000000e+00,   0.00000000e+00, ...,\n",
       "             3.50531034e-32,   0.00000000e+00,   0.00000000e+00],\n",
       "          [  0.00000000e+00,   0.00000000e+00,   0.00000000e+00, ...,\n",
       "             1.85304859e-31,   0.00000000e+00,   0.00000000e+00],\n",
       "          [  0.00000000e+00,   0.00000000e+00,   0.00000000e+00, ...,\n",
       "             9.79618812e-31,   0.00000000e+00,   0.00000000e+00],\n",
       "          ..., \n",
       "          [  0.00000000e+00,   0.00000000e+00,   0.00000000e+00, ...,\n",
       "             0.00000000e+00,   0.00000000e+00,   0.00000000e+00],\n",
       "          [  0.00000000e+00,   0.00000000e+00,   0.00000000e+00, ...,\n",
       "             0.00000000e+00,   0.00000000e+00,   0.00000000e+00],\n",
       "          [  0.00000000e+00,   0.00000000e+00,   0.00000000e+00, ...,\n",
       "             0.00000000e+00,   0.00000000e+00,   0.00000000e+00]]]], dtype=float32),\n",
       " 'sigmoid-dsn5': array([[[[ 0.,  0.,  0., ...,  1.,  1.,  1.],\n",
       "          [ 0.,  0.,  0., ...,  1.,  1.,  1.],\n",
       "          [ 0.,  0.,  0., ...,  1.,  1.,  1.],\n",
       "          ..., \n",
       "          [ 0.,  0.,  0., ...,  1.,  1.,  1.],\n",
       "          [ 0.,  0.,  0., ...,  1.,  1.,  1.],\n",
       "          [ 0.,  0.,  0., ...,  1.,  1.,  1.]]]], dtype=float32),\n",
       " 'sigmoid-fuse': array([[[[ 0.        ,  0.        ,  0.        , ...,  1.        ,\n",
       "            1.        ,  1.        ],\n",
       "          [ 0.        ,  0.        ,  0.        , ...,  1.        ,\n",
       "            1.        ,  1.        ],\n",
       "          [ 0.        ,  0.        ,  0.        , ...,  1.        ,\n",
       "            1.        ,  1.        ],\n",
       "          ..., \n",
       "          [ 0.        ,  0.        ,  0.        , ...,  0.99259442,\n",
       "            0.99999994,  0.9999032 ],\n",
       "          [ 0.        ,  0.        ,  0.        , ...,  0.996342  ,\n",
       "            0.99999988,  0.99957967],\n",
       "          [ 0.        ,  0.        ,  0.        , ...,  0.00430837,\n",
       "            0.97023809,  0.00893207]]]], dtype=float32)}"
      ]
     },
     "execution_count": 94,
     "metadata": {},
     "output_type": "execute_result"
    }
   ],
   "source": [
    "# run net and take argmax for prediction\n",
    "net.forward()"
   ]
  },
  {
   "cell_type": "code",
   "execution_count": 95,
   "metadata": {
    "collapsed": false
   },
   "outputs": [
    {
     "data": {
      "image/png": "[encoded data removed]",
      "text/plain": [
       "<matplotlib.figure.Figure at 0x7f7b8585d3d0>"
      ]
     },
     "metadata": {},
     "output_type": "display_data"
    },
    {
     "data": {
      "image/png": "[encoded data removed]",
      "text/plain": [
       "<matplotlib.figure.Figure at 0x7f7b85d595d0>"
      ]
     },
     "metadata": {},
     "output_type": "display_data"
    }
   ],
   "source": [
    "out1 = net.blobs['sigmoid-dsn1'].data[0][0,:,:]\n",
    "out2 = net.blobs['sigmoid-dsn2'].data[0][0,:,:]\n",
    "out3 = net.blobs['sigmoid-dsn3'].data[0][0,:,:]\n",
    "out4 = net.blobs['sigmoid-dsn4'].data[0][0,:,:]\n",
    "out5 = net.blobs['sigmoid-dsn5'].data[0][0,:,:]\n",
    "fuse = net.blobs['sigmoid-fuse'].data[0][0,:,:]\n",
    "\n",
    "scale_lst = [fuse]\n",
    "plot_single_scale(scale_lst, 22)\n",
    "scale_lst = [out1, out2, out3, out4, out5]\n",
    "plot_single_scale(scale_lst, 10)\n",
    "show()"
   ]
  },
  {
   "cell_type": "code",
   "execution_count": 96,
   "metadata": {
    "collapsed": false
   },
   "outputs": [
    {
     "name": "stdout",
     "output_type": "stream",
     "text": [
      "Detection took 0.101s per image\n"
     ]
    }
   ],
   "source": [
    "startLoc = len('/root/Workspace/hed-master/data/HED-BSDS/test/')\n",
    "\n",
    "start_time = time.time()\n",
    "for iidx in range(0, len(test_lst)):\n",
    "    in_ = im_lst[iidx]\n",
    "    in_ = in_.transpose((2,0,1))\n",
    "    net.blobs['data'].reshape(1, *in_.shape)\n",
    "    net.blobs['data'].data[...] = in_\n",
    "    net.forward()\n",
    "    fuse = net.blobs['sigmoid-fuse'].data[0][0,:,:]\n",
    "    \n",
    "    fileName = test_lst[iidx]\n",
    "    fileName = fileName[startLoc:(len(fileName)-4)]\n",
    "    fileName = './BSDS500/' + fileName + '.mat'\n",
    "    scio.savemat(fileName, {'edge':fuse})\n",
    "    \n",
    "diff_time = time.time() - start_time\n",
    "print 'Detection took {:.3f}s per image'.format(diff_time/len(test_lst))"
   ]
  },
  {
   "cell_type": "code",
   "execution_count": null,
   "metadata": {
    "collapsed": true
   },
   "outputs": [],
   "source": []
  }
 ],
 "metadata": {
  "kernelspec": {
   "display_name": "Python 2",
   "language": "python",
   "name": "python2"
  },
  "language_info": {
   "codemirror_mode": {
    "name": "ipython",
    "version": 2
   },
   "file_extension": ".py",
   "mimetype": "text/x-python",
   "name": "python",
   "nbconvert_exporter": "python",
   "pygments_lexer": "ipython2",
   "version": "2.7.12"
  },
  "ssap_exp_config": {
   "error_alert": "Error Occurs!",
   "initial": [],
   "max_iteration": 1000,
   "recv_id": "",
   "running": [],
   "summary": [],
   "version": "1.1.1"
  }
 },
 "nbformat": 4,
 "nbformat_minor": 0
}
